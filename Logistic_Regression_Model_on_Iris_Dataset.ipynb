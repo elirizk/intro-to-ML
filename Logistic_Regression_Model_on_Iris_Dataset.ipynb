{
  "nbformat": 4,
  "nbformat_minor": 0,
  "metadata": {
    "colab": {
      "provenance": []
    },
    "kernelspec": {
      "name": "python3",
      "display_name": "Python 3"
    },
    "language_info": {
      "name": "python"
    }
  },
  "cells": [
    {
      "cell_type": "code",
      "execution_count": 4,
      "metadata": {
        "id": "8-TaTCg2CUqb"
      },
      "outputs": [],
      "source": [
        "import numpy as np\n",
        "import pandas as pd\n",
        "from sklearn.model_selection import train_test_split\n",
        "from sklearn.preprocessing import StandardScaler\n",
        "from sklearn.linear_model import LogisticRegression\n",
        "from sklearn import datasets"
      ]
    },
    {
      "cell_type": "code",
      "source": [
        "#imports dataset\n",
        "iris = datasets.load_iris()\n",
        "iris_ds = pd.DataFrame(data= np.c_[iris['data'], iris['target']],\n",
        "                     columns= iris['feature_names'] + ['target'])\n",
        "# For this dataset the target will be 0, 1, or 2 corresponding to 'setosa', 'versicolor', or 'virginica'"
      ],
      "metadata": {
        "id": "OWtmb33dSnPw"
      },
      "execution_count": 13,
      "outputs": []
    },
    {
      "cell_type": "code",
      "source": [
        "# Display the first 5 rows of iris_ds"
      ],
      "metadata": {
        "id": "Gi2rRdayg-Hq"
      },
      "execution_count": 24,
      "outputs": []
    },
    {
      "cell_type": "code",
      "source": [
        "# Display the shape of iris_ds (# rows, # columns)"
      ],
      "metadata": {
        "id": "f3oJbMJMhTR6"
      },
      "execution_count": 27,
      "outputs": []
    },
    {
      "cell_type": "code",
      "source": [
        "# Describe the values in each column of iris_ds (count, min, max, mean, standard deviation, ...)"
      ],
      "metadata": {
        "id": "AszYG8MphWVa"
      },
      "execution_count": null,
      "outputs": []
    },
    {
      "cell_type": "code",
      "source": [
        "# Display an information summary of the dataframe (column name, column type, memory usage, ...)"
      ],
      "metadata": {
        "id": "-F9Vv3zWjsAw"
      },
      "execution_count": 31,
      "outputs": []
    },
    {
      "cell_type": "code",
      "source": [
        "# How many instances do we have for each label? i.e. # of target setosa, # of target versicolor, # of target virginica\n",
        "# Are there any class imbalances (one class being over or under represented)?"
      ],
      "metadata": {
        "id": "v1ew0YvTi3uV"
      },
      "execution_count": null,
      "outputs": []
    },
    {
      "cell_type": "code",
      "source": [
        "#training and test set for input/output\n",
        "X = iris_ds.iloc[:, [0, 1, 2, 3]].values\n",
        "y = iris_ds.iloc[:, 4].values"
      ],
      "metadata": {
        "id": "BIdbdNPdgS5U"
      },
      "execution_count": 15,
      "outputs": []
    },
    {
      "cell_type": "code",
      "source": [
        "#split ds into 75% training 25% test, random seed set to specific val\n",
        "X_train, X_test, y_train, y_test = train_test_split(X, y, test_size = 0.25, random_state = 0)"
      ],
      "metadata": {
        "id": "R1zlfEVqgS2d"
      },
      "execution_count": 16,
      "outputs": []
    },
    {
      "cell_type": "code",
      "source": [
        "# Do we need feature scaling? try running it without and see if it affects the accuracy\n",
        "#feature scaling\n",
        "sc = StandardScaler()\n",
        "X_train = sc.fit_transform(X_train)\n",
        "X_test = sc.transform(X_test)"
      ],
      "metadata": {
        "id": "yrkRR-7AgSzU"
      },
      "execution_count": 17,
      "outputs": []
    },
    {
      "cell_type": "code",
      "source": [
        "#creates logistic regression model for training set\n",
        "classifier = LogisticRegression(random_state = 0, solver='lbfgs', multi_class='auto')\n",
        "classifier.fit(X_train, y_train)"
      ],
      "metadata": {
        "colab": {
          "base_uri": "https://localhost:8080/",
          "height": 52
        },
        "id": "6P6Kqy3PgSwM",
        "outputId": "ef273f74-56bf-43f6-a1be-544a76d25d2f"
      },
      "execution_count": 18,
      "outputs": [
        {
          "output_type": "execute_result",
          "data": {
            "text/plain": [
              "LogisticRegression(random_state=0)"
            ],
            "text/html": [
              "<style>#sk-container-id-1 {color: black;background-color: white;}#sk-container-id-1 pre{padding: 0;}#sk-container-id-1 div.sk-toggleable {background-color: white;}#sk-container-id-1 label.sk-toggleable__label {cursor: pointer;display: block;width: 100%;margin-bottom: 0;padding: 0.3em;box-sizing: border-box;text-align: center;}#sk-container-id-1 label.sk-toggleable__label-arrow:before {content: \"▸\";float: left;margin-right: 0.25em;color: #696969;}#sk-container-id-1 label.sk-toggleable__label-arrow:hover:before {color: black;}#sk-container-id-1 div.sk-estimator:hover label.sk-toggleable__label-arrow:before {color: black;}#sk-container-id-1 div.sk-toggleable__content {max-height: 0;max-width: 0;overflow: hidden;text-align: left;background-color: #f0f8ff;}#sk-container-id-1 div.sk-toggleable__content pre {margin: 0.2em;color: black;border-radius: 0.25em;background-color: #f0f8ff;}#sk-container-id-1 input.sk-toggleable__control:checked~div.sk-toggleable__content {max-height: 200px;max-width: 100%;overflow: auto;}#sk-container-id-1 input.sk-toggleable__control:checked~label.sk-toggleable__label-arrow:before {content: \"▾\";}#sk-container-id-1 div.sk-estimator input.sk-toggleable__control:checked~label.sk-toggleable__label {background-color: #d4ebff;}#sk-container-id-1 div.sk-label input.sk-toggleable__control:checked~label.sk-toggleable__label {background-color: #d4ebff;}#sk-container-id-1 input.sk-hidden--visually {border: 0;clip: rect(1px 1px 1px 1px);clip: rect(1px, 1px, 1px, 1px);height: 1px;margin: -1px;overflow: hidden;padding: 0;position: absolute;width: 1px;}#sk-container-id-1 div.sk-estimator {font-family: monospace;background-color: #f0f8ff;border: 1px dotted black;border-radius: 0.25em;box-sizing: border-box;margin-bottom: 0.5em;}#sk-container-id-1 div.sk-estimator:hover {background-color: #d4ebff;}#sk-container-id-1 div.sk-parallel-item::after {content: \"\";width: 100%;border-bottom: 1px solid gray;flex-grow: 1;}#sk-container-id-1 div.sk-label:hover label.sk-toggleable__label {background-color: #d4ebff;}#sk-container-id-1 div.sk-serial::before {content: \"\";position: absolute;border-left: 1px solid gray;box-sizing: border-box;top: 0;bottom: 0;left: 50%;z-index: 0;}#sk-container-id-1 div.sk-serial {display: flex;flex-direction: column;align-items: center;background-color: white;padding-right: 0.2em;padding-left: 0.2em;position: relative;}#sk-container-id-1 div.sk-item {position: relative;z-index: 1;}#sk-container-id-1 div.sk-parallel {display: flex;align-items: stretch;justify-content: center;background-color: white;position: relative;}#sk-container-id-1 div.sk-item::before, #sk-container-id-1 div.sk-parallel-item::before {content: \"\";position: absolute;border-left: 1px solid gray;box-sizing: border-box;top: 0;bottom: 0;left: 50%;z-index: -1;}#sk-container-id-1 div.sk-parallel-item {display: flex;flex-direction: column;z-index: 1;position: relative;background-color: white;}#sk-container-id-1 div.sk-parallel-item:first-child::after {align-self: flex-end;width: 50%;}#sk-container-id-1 div.sk-parallel-item:last-child::after {align-self: flex-start;width: 50%;}#sk-container-id-1 div.sk-parallel-item:only-child::after {width: 0;}#sk-container-id-1 div.sk-dashed-wrapped {border: 1px dashed gray;margin: 0 0.4em 0.5em 0.4em;box-sizing: border-box;padding-bottom: 0.4em;background-color: white;}#sk-container-id-1 div.sk-label label {font-family: monospace;font-weight: bold;display: inline-block;line-height: 1.2em;}#sk-container-id-1 div.sk-label-container {text-align: center;}#sk-container-id-1 div.sk-container {/* jupyter's `normalize.less` sets `[hidden] { display: none; }` but bootstrap.min.css set `[hidden] { display: none !important; }` so we also need the `!important` here to be able to override the default hidden behavior on the sphinx rendered scikit-learn.org. See: https://github.com/scikit-learn/scikit-learn/issues/21755 */display: inline-block !important;position: relative;}#sk-container-id-1 div.sk-text-repr-fallback {display: none;}</style><div id=\"sk-container-id-1\" class=\"sk-top-container\"><div class=\"sk-text-repr-fallback\"><pre>LogisticRegression(random_state=0)</pre><b>In a Jupyter environment, please rerun this cell to show the HTML representation or trust the notebook. <br />On GitHub, the HTML representation is unable to render, please try loading this page with nbviewer.org.</b></div><div class=\"sk-container\" hidden><div class=\"sk-item\"><div class=\"sk-estimator sk-toggleable\"><input class=\"sk-toggleable__control sk-hidden--visually\" id=\"sk-estimator-id-1\" type=\"checkbox\" checked><label for=\"sk-estimator-id-1\" class=\"sk-toggleable__label sk-toggleable__label-arrow\">LogisticRegression</label><div class=\"sk-toggleable__content\"><pre>LogisticRegression(random_state=0)</pre></div></div></div></div></div>"
            ]
          },
          "metadata": {},
          "execution_count": 18
        }
      ]
    },
    {
      "cell_type": "code",
      "source": [
        "#predicts test results and probability results\n",
        "y_pred = classifier.predict(X_test)\n",
        "y_probs = classifier.predict_proba(X_test)\n",
        "# prints results to 2 deci places\n",
        "y_probs = np.round(y_probs, 2)"
      ],
      "metadata": {
        "id": "cntXvt53gSlq"
      },
      "execution_count": 19,
      "outputs": []
    },
    {
      "cell_type": "code",
      "source": [
        "# Output the final accuracy of the model (# of correct predictions / # of total predictions)\n",
        "# Hint: the i_th prediction is correct means that y_pred[i] == y_test[i] (the i_th prediction is equal to the i_th true label)"
      ],
      "metadata": {
        "id": "RR6PsZwiiG7C"
      },
      "execution_count": null,
      "outputs": []
    },
    {
      "cell_type": "code",
      "source": [
        "# No need for this, most datasets wil be too big to display each prediction label one by one\n",
        "results = \"{:<10} | {:<10} | {:<10} | {:<13} | {:<5}\".format(\"y_test\", \"y_pred\", \"Setosa(%)\", \"Versicolor(%)\", \"Virginica(%)\\n\")\n",
        "results += \"-\"*65+\"\\n\"\n",
        "results += \"\\n\".join(\"{:<10} | {:<10} | {:<10} | {:<13} | {:<10}\".format(x, y, a, b, c) for x, y, a, b, c in zip(y_test, y_pred, y_probs[:,0], y_probs[:,1], y_probs[:,2]))\n",
        "results += \"\\n\"+\"-\"*65+\"\\n\"\n",
        "print(results)"
      ],
      "metadata": {
        "colab": {
          "base_uri": "https://localhost:8080/"
        },
        "id": "en7UzW4UgPGS",
        "outputId": "53ae24e2-e631-46f1-d7ec-d42a227e2629"
      },
      "execution_count": 20,
      "outputs": [
        {
          "output_type": "stream",
          "name": "stdout",
          "text": [
            "y_test     | y_pred     | Setosa(%)  | Versicolor(%) | Virginica(%)\n",
            "-----------------------------------------------------------------\n",
            "2.0        | 2.0        | 0.0        | 0.03          | 0.97      \n",
            "1.0        | 1.0        | 0.01       | 0.95          | 0.04      \n",
            "0.0        | 0.0        | 1.0        | 0.0           | 0.0       \n",
            "2.0        | 2.0        | 0.0        | 0.08          | 0.92      \n",
            "0.0        | 0.0        | 0.98       | 0.02          | 0.0       \n",
            "2.0        | 2.0        | 0.0        | 0.01          | 0.99      \n",
            "0.0        | 0.0        | 0.98       | 0.02          | 0.0       \n",
            "1.0        | 1.0        | 0.01       | 0.71          | 0.28      \n",
            "1.0        | 1.0        | 0.0        | 0.73          | 0.27      \n",
            "1.0        | 1.0        | 0.02       | 0.89          | 0.08      \n",
            "2.0        | 2.0        | 0.0        | 0.44          | 0.56      \n",
            "1.0        | 1.0        | 0.02       | 0.76          | 0.22      \n",
            "1.0        | 1.0        | 0.01       | 0.85          | 0.13      \n",
            "1.0        | 1.0        | 0.0        | 0.69          | 0.3       \n",
            "1.0        | 1.0        | 0.01       | 0.75          | 0.24      \n",
            "0.0        | 0.0        | 0.99       | 0.01          | 0.0       \n",
            "1.0        | 1.0        | 0.02       | 0.72          | 0.26      \n",
            "1.0        | 1.0        | 0.03       | 0.86          | 0.11      \n",
            "0.0        | 0.0        | 0.94       | 0.06          | 0.0       \n",
            "0.0        | 0.0        | 0.99       | 0.01          | 0.0       \n",
            "2.0        | 2.0        | 0.0        | 0.17          | 0.83      \n",
            "1.0        | 1.0        | 0.04       | 0.71          | 0.25      \n",
            "0.0        | 0.0        | 0.98       | 0.02          | 0.0       \n",
            "0.0        | 0.0        | 0.96       | 0.04          | 0.0       \n",
            "2.0        | 2.0        | 0.0        | 0.35          | 0.65      \n",
            "0.0        | 0.0        | 1.0        | 0.0           | 0.0       \n",
            "0.0        | 0.0        | 0.99       | 0.01          | 0.0       \n",
            "1.0        | 1.0        | 0.02       | 0.87          | 0.11      \n",
            "1.0        | 1.0        | 0.09       | 0.9           | 0.02      \n",
            "0.0        | 0.0        | 0.97       | 0.03          | 0.0       \n",
            "2.0        | 2.0        | 0.0        | 0.21          | 0.79      \n",
            "1.0        | 1.0        | 0.06       | 0.69          | 0.25      \n",
            "0.0        | 0.0        | 0.98       | 0.02          | 0.0       \n",
            "2.0        | 2.0        | 0.0        | 0.35          | 0.65      \n",
            "2.0        | 2.0        | 0.0        | 0.04          | 0.96      \n",
            "1.0        | 1.0        | 0.07       | 0.81          | 0.11      \n",
            "0.0        | 0.0        | 0.97       | 0.03          | 0.0       \n",
            "1.0        | 2.0        | 0.0        | 0.42          | 0.58      \n",
            "-----------------------------------------------------------------\n",
            "\n"
          ]
        }
      ]
    }
  ]
}