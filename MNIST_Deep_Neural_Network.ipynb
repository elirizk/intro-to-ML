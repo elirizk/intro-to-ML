{
  "nbformat": 4,
  "nbformat_minor": 0,
  "metadata": {
    "colab": {
      "provenance": [],
      "include_colab_link": true
    },
    "kernelspec": {
      "name": "python3",
      "display_name": "Python 3"
    },
    "language_info": {
      "name": "python"
    }
  },
  "cells": [
    {
      "cell_type": "markdown",
      "metadata": {
        "id": "view-in-github",
        "colab_type": "text"
      },
      "source": [
        "<a href=\"https://colab.research.google.com/github/zsbeih/intro-to-ML/blob/main/MNIST_Deep_Neural_Network.ipynb\" target=\"_parent\"><img src=\"https://colab.research.google.com/assets/colab-badge.svg\" alt=\"Open In Colab\"/></a>"
      ]
    },
    {
      "cell_type": "code",
      "execution_count": 30,
      "metadata": {
        "id": "fqWxiVaY0f_B"
      },
      "outputs": [],
      "source": [
        "import torch\n",
        "from torchvision import datasets, transforms\n",
        "from torch.utils.data import DataLoader\n",
        "import torch.nn as nn\n",
        "from torch import optim\n",
        "\n",
        "import matplotlib.pyplot as plt\n",
        "\n"
      ]
    },
    {
      "cell_type": "code",
      "source": [
        "def adversarial_attack(input_data, model, labels, epsilon) :\n",
        "  alpha = 0.2\n",
        "  input_data.requires_grad = True\n",
        "\n",
        "  outputs, _ = model(input_data)\n",
        "  loss_func = nn.CrossEntropyLoss()\n",
        "  loss = loss_func(outputs, labels)\n",
        "\n",
        "  model.zero_grad()\n",
        "  loss.backward()\n",
        "\n",
        "  perturbation = alpha * input_data.grad.data.sign()\n",
        "  perturbed_data = input_data + perturbation\n",
        "  perturbed_data = torch.clamp(perturbed_data, input_data-epsilon, input_data+epsilon)\n",
        "\n",
        "  return perturbed_data\n"
      ],
      "metadata": {
        "id": "8wlfM6ADixFZ"
      },
      "execution_count": 31,
      "outputs": []
    },
    {
      "cell_type": "code",
      "source": [
        "train_data = datasets.MNIST(root = 'data', train = True, transform = transforms.ToTensor(), download = True)\n",
        "\n",
        "test_data = datasets.MNIST(root = 'data', train = False, transform = transforms.ToTensor())\n",
        "\n",
        "print(train_data)\n",
        "print(test_data)"
      ],
      "metadata": {
        "colab": {
          "base_uri": "https://localhost:8080/"
        },
        "id": "994O5EN51zbf",
        "outputId": "dcd84cce-7883-463a-98a6-f13f70cb49d6"
      },
      "execution_count": 32,
      "outputs": [
        {
          "output_type": "stream",
          "name": "stdout",
          "text": [
            "Dataset MNIST\n",
            "    Number of datapoints: 60000\n",
            "    Root location: data\n",
            "    Split: Train\n",
            "    StandardTransform\n",
            "Transform: ToTensor()\n",
            "Dataset MNIST\n",
            "    Number of datapoints: 10000\n",
            "    Root location: data\n",
            "    Split: Test\n",
            "    StandardTransform\n",
            "Transform: ToTensor()\n"
          ]
        }
      ]
    },
    {
      "cell_type": "code",
      "source": [
        "loaders = {\n",
        "    'train' : DataLoader(train_data, batch_size = 100, shuffle = True),\n",
        "\n",
        "    'test' :  DataLoader(test_data, batch_size = 100, shuffle = True)\n",
        "}"
      ],
      "metadata": {
        "id": "zH9bAlqk5ShI"
      },
      "execution_count": 33,
      "outputs": []
    },
    {
      "cell_type": "code",
      "source": [
        "class LinearModel(nn.Module):\n",
        "  def __init__(self):\n",
        "    super (LinearModel, self).__init__()\n",
        "\n",
        "    self.flatten = nn.Flatten()\n",
        "\n",
        "    self.out1 = nn.Linear(28 * 28, 128)\n",
        "    self.activation1 = nn.ReLU()\n",
        "    self.out2 = nn.Linear(128, 10)\n",
        "    self.activation2 = nn.Sigmoid()\n",
        "\n",
        "  def forward(self, x):\n",
        "      x = self.flatten(x)\n",
        "      x = self.out1(x)\n",
        "      x = self.activation1(x)\n",
        "      x = self.out2(x)\n",
        "      output = self.activation2(x)\n",
        "      return output, x\n",
        "\n",
        "linear_model = LinearModel();\n",
        "print(linear_model)"
      ],
      "metadata": {
        "colab": {
          "base_uri": "https://localhost:8080/"
        },
        "id": "Ym8yO-Gg64IF",
        "outputId": "7b0c810d-e0de-40a0-e39b-017bc824ce8a"
      },
      "execution_count": 34,
      "outputs": [
        {
          "output_type": "stream",
          "name": "stdout",
          "text": [
            "LinearModel(\n",
            "  (flatten): Flatten(start_dim=1, end_dim=-1)\n",
            "  (out1): Linear(in_features=784, out_features=128, bias=True)\n",
            "  (activation1): ReLU()\n",
            "  (out2): Linear(in_features=128, out_features=10, bias=True)\n",
            "  (activation2): Sigmoid()\n",
            ")\n"
          ]
        }
      ]
    },
    {
      "cell_type": "code",
      "source": [
        "loss_function = nn.CrossEntropyLoss()"
      ],
      "metadata": {
        "id": "CKnwIrAq_pt4"
      },
      "execution_count": 35,
      "outputs": []
    },
    {
      "cell_type": "code",
      "source": [
        "optimizer = optim.Adam(linear_model.parameters(), lr = 0.01)"
      ],
      "metadata": {
        "id": "PE55CJON_7FX"
      },
      "execution_count": 36,
      "outputs": []
    },
    {
      "cell_type": "code",
      "source": [
        "num_epochs = 5\n",
        "\n",
        "def train(num_epochs, linear, loaders):\n",
        "\n",
        "  linear.train()\n",
        "\n",
        "  total_step = len(loaders['train'])\n",
        "\n",
        "  for epoch in range(num_epochs) :\n",
        "    for i, (images, labels) in enumerate(loaders['train']):\n",
        "\n",
        "      b_x = images\n",
        "      b_y = labels\n",
        "\n",
        "      output = linear(b_x)[0]\n",
        "      loss = loss_function(output, b_y)\n",
        "      optimizer.zero_grad()\n",
        "      loss.backward()\n",
        "      optimizer.step()\n",
        "\n",
        "      perturbed_data = adversarial_attack(b_x, linear, b_y, 0.05)\n",
        "      perturbed_output = linear(perturbed_data)[0]\n",
        "      perturbed_loss = loss_function(perturbed_output, b_y)\n",
        "      optimizer.zero_grad()\n",
        "      perturbed_loss.backward()\n",
        "      optimizer.step()\n",
        "\n",
        "      if (i+1) % 100 == 0:\n",
        "                print ('Epoch [{}/{}], Step [{}/{}], Loss: {:.4f}'\n",
        "                       .format(epoch + 1, num_epochs, i + 1, total_step, loss.item()))\n",
        "train(num_epochs, linear_model, loaders)"
      ],
      "metadata": {
        "colab": {
          "base_uri": "https://localhost:8080/"
        },
        "id": "z9t2PNsnATAn",
        "outputId": "ca194f9b-28e1-4100-d2d8-e679261e18f0"
      },
      "execution_count": 37,
      "outputs": [
        {
          "output_type": "stream",
          "name": "stdout",
          "text": [
            "Epoch [1/5], Step [100/600], Loss: 1.6229\n",
            "Epoch [1/5], Step [200/600], Loss: 1.6157\n",
            "Epoch [1/5], Step [300/600], Loss: 1.5231\n",
            "Epoch [1/5], Step [400/600], Loss: 1.5124\n",
            "Epoch [1/5], Step [500/600], Loss: 1.5352\n",
            "Epoch [1/5], Step [600/600], Loss: 1.5040\n",
            "Epoch [2/5], Step [100/600], Loss: 1.5166\n",
            "Epoch [2/5], Step [200/600], Loss: 1.4958\n",
            "Epoch [2/5], Step [300/600], Loss: 1.5208\n",
            "Epoch [2/5], Step [400/600], Loss: 1.4709\n",
            "Epoch [2/5], Step [500/600], Loss: 1.4886\n",
            "Epoch [2/5], Step [600/600], Loss: 1.5211\n",
            "Epoch [3/5], Step [100/600], Loss: 1.4780\n",
            "Epoch [3/5], Step [200/600], Loss: 1.4970\n",
            "Epoch [3/5], Step [300/600], Loss: 1.5138\n",
            "Epoch [3/5], Step [400/600], Loss: 1.4968\n",
            "Epoch [3/5], Step [500/600], Loss: 1.5252\n",
            "Epoch [3/5], Step [600/600], Loss: 1.4901\n",
            "Epoch [4/5], Step [100/600], Loss: 1.4858\n",
            "Epoch [4/5], Step [200/600], Loss: 1.4735\n",
            "Epoch [4/5], Step [300/600], Loss: 1.4988\n",
            "Epoch [4/5], Step [400/600], Loss: 1.4800\n",
            "Epoch [4/5], Step [500/600], Loss: 1.4839\n",
            "Epoch [4/5], Step [600/600], Loss: 1.4967\n",
            "Epoch [5/5], Step [100/600], Loss: 1.4853\n",
            "Epoch [5/5], Step [200/600], Loss: 1.4903\n",
            "Epoch [5/5], Step [300/600], Loss: 1.4824\n",
            "Epoch [5/5], Step [400/600], Loss: 1.4832\n",
            "Epoch [5/5], Step [500/600], Loss: 1.4899\n",
            "Epoch [5/5], Step [600/600], Loss: 1.4760\n"
          ]
        }
      ]
    },
    {
      "cell_type": "code",
      "source": [
        "def test():\n",
        "  linear_model.eval()\n",
        "  correct = 0\n",
        "  total = 0\n",
        "\n",
        "  for images, labels in loaders['test']:\n",
        "        perturbed_images = adversarial_attack(images, linear_model, labels, 0.1)\n",
        "        test_output = linear_model(perturbed_images)[0]\n",
        "        _, pred_y = torch.max(test_output, 1)\n",
        "\n",
        "  accuracy = (pred_y == labels).sum().item() / float(labels.size(0))\n",
        "\n",
        "  print('Test Accuracy: %.2f' % accuracy)\n",
        "test()"
      ],
      "metadata": {
        "colab": {
          "base_uri": "https://localhost:8080/"
        },
        "id": "48cHj2TWFxD1",
        "outputId": "a2696fbb-c252-42d1-9bd7-6bed496e2dd6"
      },
      "execution_count": 38,
      "outputs": [
        {
          "output_type": "stream",
          "name": "stdout",
          "text": [
            "Test Accuracy: 0.68\n"
          ]
        }
      ]
    },
    {
      "cell_type": "code",
      "source": [
        "for images, labels in loaders['test']:\n",
        "    perturbed_images = adversarial_attack(images, linear_model, labels, 0.05)\n",
        "    break\n",
        "\n",
        "image_array1 = perturbed_images[0].detach().squeeze().numpy()\n",
        "image_array2 = images[0].detach().squeeze().numpy()\n",
        "\n",
        "plt.axis('off')\n",
        "plt.imshow(image_array1, cmap='gray')\n",
        "plt.show()\n",
        "plt.axis('off')\n",
        "plt.imshow(image_array2, cmap='gray')\n",
        "plt.show()"
      ],
      "metadata": {
        "colab": {
          "base_uri": "https://localhost:8080/",
          "height": 795
        },
        "id": "yzQHGvU-lqkq",
        "outputId": "a81f942e-6c23-42c7-8f3c-dc27d2edb45e"
      },
      "execution_count": 39,
      "outputs": [
        {
          "output_type": "display_data",
          "data": {
            "text/plain": [
              "<Figure size 640x480 with 1 Axes>"
            ],
            "image/png": "[encoded data removed]"
          },
          "metadata": {}
        },
        {
          "output_type": "display_data",
          "data": {
            "text/plain": [
              "<Figure size 640x480 with 1 Axes>"
            ],
            "image/png": "[encoded data removed]"
          },
          "metadata": {}
        }
      ]
    }
  ]
}