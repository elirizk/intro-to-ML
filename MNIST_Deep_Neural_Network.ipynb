{
  "nbformat": 4,
  "nbformat_minor": 0,
  "metadata": {
    "colab": {
      "provenance": []
    },
    "kernelspec": {
      "name": "python3",
      "display_name": "Python 3"
    },
    "language_info": {
      "name": "python"
    }
  },
  "cells": [
    {
      "cell_type": "code",
      "execution_count": 16,
      "metadata": {
        "id": "fqWxiVaY0f_B"
      },
      "outputs": [],
      "source": [
        "import torch\n",
        "from torchvision import datasets, transforms\n",
        "from torch.utils.data import DataLoader\n",
        "import torch.nn as nn\n",
        "from torch import optim\n",
        "\n",
        "import matplotlib.pyplot as plt\n"
      ]
    },
    {
      "cell_type": "code",
      "source": [
        "def adversarial_attack(input_data, model, labels, epsilon) :\n",
        "  alpha = 0.2\n",
        "  input_data.requires_grad = True\n",
        "\n",
        "  outputs, _ = model(input_data)\n",
        "  loss_func = nn.CrossEntropyLoss()\n",
        "  loss = loss_func(outputs, labels)\n",
        "\n",
        "  model.zero_grad()\n",
        "  loss.backward()\n",
        "\n",
        "  perturbation = alpha * input_data.grad.data.sign()\n",
        "  perturbed_data = input_data + perturbation\n",
        "  perturbed_data = torch.clamp(perturbed_data, input_data-epsilon, input_data+epsilon)\n",
        "\n",
        "  return perturbed_data\n"
      ],
      "metadata": {
        "id": "8wlfM6ADixFZ"
      },
      "execution_count": 22,
      "outputs": []
    },
    {
      "cell_type": "code",
      "source": [
        "train_data = datasets.MNIST(root = 'data', train = True, transform = transforms.ToTensor(), download = True)\n",
        "\n",
        "test_data = datasets.MNIST(root = 'data', train = False, transform = transforms.ToTensor())\n",
        "\n",
        "print(train_data)\n",
        "print(test_data)"
      ],
      "metadata": {
        "colab": {
          "base_uri": "https://localhost:8080/"
        },
        "id": "994O5EN51zbf",
        "outputId": "7ccdd1c7-3e58-473f-9a24-509d212473f2"
      },
      "execution_count": 4,
      "outputs": [
        {
          "output_type": "stream",
          "name": "stdout",
          "text": [
            "Dataset MNIST\n",
            "    Number of datapoints: 60000\n",
            "    Root location: data\n",
            "    Split: Train\n",
            "    StandardTransform\n",
            "Transform: ToTensor()\n",
            "Dataset MNIST\n",
            "    Number of datapoints: 10000\n",
            "    Root location: data\n",
            "    Split: Test\n",
            "    StandardTransform\n",
            "Transform: ToTensor()\n"
          ]
        }
      ]
    },
    {
      "cell_type": "code",
      "source": [
        "loaders = {\n",
        "    'train' : DataLoader(train_data, batch_size = 100, shuffle = True),\n",
        "\n",
        "    'test' :  DataLoader(test_data, batch_size = 100, shuffle = True)\n",
        "}"
      ],
      "metadata": {
        "id": "zH9bAlqk5ShI"
      },
      "execution_count": 5,
      "outputs": []
    },
    {
      "cell_type": "code",
      "source": [
        "class LinearModel(nn.Module):\n",
        "  def __init__(self):\n",
        "    super (LinearModel, self).__init__()\n",
        "\n",
        "    self.flatten = nn.Flatten()\n",
        "\n",
        "    self.out1 = nn.Linear(28 * 28, 128)\n",
        "    self.activation1 = nn.ReLU()\n",
        "    self.out2 = nn.Linear(128, 10)\n",
        "    self.activation2 = nn.Sigmoid()\n",
        "\n",
        "  def forward(self, x):\n",
        "      x = self.flatten(x)\n",
        "      x = self.out1(x)\n",
        "      x = self.activation1(x)\n",
        "      x = self.out2(x)\n",
        "      output = self.activation2(x)\n",
        "      return output, x\n",
        "\n",
        "linear_model = LinearModel();\n",
        "print(linear_model)"
      ],
      "metadata": {
        "colab": {
          "base_uri": "https://localhost:8080/"
        },
        "id": "Ym8yO-Gg64IF",
        "outputId": "19dbfb02-e589-4fc2-92e8-90a301d53ed0"
      },
      "execution_count": 6,
      "outputs": [
        {
          "output_type": "stream",
          "name": "stdout",
          "text": [
            "LinearModel(\n",
            "  (flatten): Flatten(start_dim=1, end_dim=-1)\n",
            "  (out1): Linear(in_features=784, out_features=128, bias=True)\n",
            "  (activation1): ReLU()\n",
            "  (out2): Linear(in_features=128, out_features=10, bias=True)\n",
            "  (activation2): Sigmoid()\n",
            ")\n"
          ]
        }
      ]
    },
    {
      "cell_type": "code",
      "source": [
        "loss_function = nn.CrossEntropyLoss()"
      ],
      "metadata": {
        "id": "CKnwIrAq_pt4"
      },
      "execution_count": 7,
      "outputs": []
    },
    {
      "cell_type": "code",
      "source": [
        "optimizer = optim.Adam(linear_model.parameters(), lr = 0.01)"
      ],
      "metadata": {
        "id": "PE55CJON_7FX"
      },
      "execution_count": 8,
      "outputs": []
    },
    {
      "cell_type": "code",
      "source": [
        "num_epochs = 5\n",
        "\n",
        "def train(num_epochs, linear, loaders):\n",
        "\n",
        "  linear.train()\n",
        "\n",
        "  total_step = len(loaders['train'])\n",
        "\n",
        "  for epoch in range(num_epochs) :\n",
        "    for i, (images, labels) in enumerate(loaders['train']):\n",
        "\n",
        "      b_x = images\n",
        "      b_y = labels\n",
        "\n",
        "      output = linear(b_x)[0]\n",
        "      loss = loss_function(output, b_y)\n",
        "      optimizer.zero_grad()\n",
        "      loss.backward()\n",
        "      optimizer.step()\n",
        "      if (i+1) % 100 == 0:\n",
        "                print ('Epoch [{}/{}], Step [{}/{}], Loss: {:.4f}'\n",
        "                       .format(epoch + 1, num_epochs, i + 1, total_step, loss.item()))\n",
        "train(num_epochs, linear_model, loaders)"
      ],
      "metadata": {
        "colab": {
          "base_uri": "https://localhost:8080/"
        },
        "id": "z9t2PNsnATAn",
        "outputId": "a8755d34-461c-4594-e616-bf3a5d8cce7f"
      },
      "execution_count": 9,
      "outputs": [
        {
          "output_type": "stream",
          "name": "stdout",
          "text": [
            "Epoch [1/5], Step [100/600], Loss: 1.5695\n",
            "Epoch [1/5], Step [200/600], Loss: 1.5455\n",
            "Epoch [1/5], Step [300/600], Loss: 1.5249\n",
            "Epoch [1/5], Step [400/600], Loss: 1.5550\n",
            "Epoch [1/5], Step [500/600], Loss: 1.5047\n",
            "Epoch [1/5], Step [600/600], Loss: 1.5305\n",
            "Epoch [2/5], Step [100/600], Loss: 1.4818\n",
            "Epoch [2/5], Step [200/600], Loss: 1.4882\n",
            "Epoch [2/5], Step [300/600], Loss: 1.5222\n",
            "Epoch [2/5], Step [400/600], Loss: 1.4826\n",
            "Epoch [2/5], Step [500/600], Loss: 1.5062\n",
            "Epoch [2/5], Step [600/600], Loss: 1.4985\n",
            "Epoch [3/5], Step [100/600], Loss: 1.4921\n",
            "Epoch [3/5], Step [200/600], Loss: 1.4855\n",
            "Epoch [3/5], Step [300/600], Loss: 1.4978\n",
            "Epoch [3/5], Step [400/600], Loss: 1.5034\n",
            "Epoch [3/5], Step [500/600], Loss: 1.4883\n",
            "Epoch [3/5], Step [600/600], Loss: 1.5115\n",
            "Epoch [4/5], Step [100/600], Loss: 1.4886\n",
            "Epoch [4/5], Step [200/600], Loss: 1.5140\n",
            "Epoch [4/5], Step [300/600], Loss: 1.4997\n",
            "Epoch [4/5], Step [400/600], Loss: 1.5070\n",
            "Epoch [4/5], Step [500/600], Loss: 1.5052\n",
            "Epoch [4/5], Step [600/600], Loss: 1.5105\n",
            "Epoch [5/5], Step [100/600], Loss: 1.4739\n",
            "Epoch [5/5], Step [200/600], Loss: 1.4991\n",
            "Epoch [5/5], Step [300/600], Loss: 1.4850\n",
            "Epoch [5/5], Step [400/600], Loss: 1.4712\n",
            "Epoch [5/5], Step [500/600], Loss: 1.5139\n",
            "Epoch [5/5], Step [600/600], Loss: 1.4780\n"
          ]
        }
      ]
    },
    {
      "cell_type": "code",
      "source": [
        "def test():\n",
        "  linear_model.eval()\n",
        "  correct = 0\n",
        "  total = 0\n",
        "\n",
        "  for images, labels in loaders['test']:\n",
        "        perturbed_images = adversarial_attack(images, linear_model, labels, 0.1)\n",
        "        test_output = linear_model(perturbed_images)[0]\n",
        "        _, pred_y = torch.max(test_output, 1)\n",
        "\n",
        "  accuracy = (pred_y == labels).sum().item() / float(labels.size(0))\n",
        "\n",
        "  print('Test Accuracy: %.2f' % accuracy)\n",
        "test()"
      ],
      "metadata": {
        "colab": {
          "base_uri": "https://localhost:8080/"
        },
        "id": "48cHj2TWFxD1",
        "outputId": "840773ed-7fff-4749-865e-4246b82cec53"
      },
      "execution_count": 33,
      "outputs": [
        {
          "output_type": "stream",
          "name": "stdout",
          "text": [
            "Test Accuracy: 0.28\n"
          ]
        }
      ]
    },
    {
      "cell_type": "code",
      "source": [
        "for images, labels in loaders['test']:\n",
        "    perturbed_images = adversarial_attack(images, linear_model, labels, 0.05)\n",
        "    break\n",
        "\n",
        "image_array = perturbed_images[0].detach().squeeze().numpy()\n",
        "\n",
        "# Display the image using Matplotlib\n",
        "plt.imshow(image_array, cmap='gray')\n",
        "plt.axis('off')  # Turn off axis labels\n",
        "plt.show()"
      ],
      "metadata": {
        "colab": {
          "base_uri": "https://localhost:8080/",
          "height": 406
        },
        "id": "yzQHGvU-lqkq",
        "outputId": "2a969fc2-2633-4860-c908-c15e7812ee34"
      },
      "execution_count": 34,
      "outputs": [
        {
          "output_type": "display_data",
          "data": {
            "text/plain": [
              "<Figure size 640x480 with 1 Axes>"
            ],
            "image/png": "[encoded data removed]"
          },
          "metadata": {}
        }
      ]
    }
  ]
}